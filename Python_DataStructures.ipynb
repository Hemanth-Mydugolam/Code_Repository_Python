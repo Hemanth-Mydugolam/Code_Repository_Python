{
 "cells": [
  {
   "cell_type": "markdown",
   "metadata": {},
   "source": [
    "## Python Data Structures\n",
    "#### Lists\n",
    "#### Tuples\n",
    "#### Dictionaries\n",
    "#### Sets\n",
    "#### Strings\n",
    "#### Queues\n",
    "#### Stacks\n",
    "#### Linked Lists"
   ]
  },
  {
   "cell_type": "markdown",
   "metadata": {},
   "source": [
    "## 1. List\n",
    "- A dynamic array that can hold elements of any data type.\n",
    "\n",
    "### Key Functions/Methods:\n",
    "- append(): Add an element at the end.\n",
    "- insert(index, value): Insert element at a specified index.\n",
    "- remove(): Remove first occurrence of a value.\n",
    "- pop(): Remove element by index (or last element if not specified).\n",
    "- extend(): Append elements from another iterable.\n",
    "- index(): Return the index of the first occurrence of a value.\n",
    "- count(): Return the number of occurrences of a value.\n",
    "- sort(): Sort the list in place.\n",
    "- reverse(): Reverse the list in place.\n",
    "- copy(): Return a shallow copy of the list."
   ]
  },
  {
   "cell_type": "code",
   "execution_count": 37,
   "metadata": {},
   "outputs": [
    {
     "name": "stdout",
     "output_type": "stream",
     "text": [
      "Values of a: []\n",
      "Type of a: <class 'list'>\n",
      "Size of a: 0\n"
     ]
    }
   ],
   "source": [
    "# list is declared\n",
    "a = []         \n",
    "\n",
    "print(\"Values of a:\", a)\n",
    "print(\"Type of a:\", type(a))\n",
    "print(\"Size of a:\", len(a)) "
   ]
  },
  {
   "cell_type": "code",
   "execution_count": 20,
   "metadata": {},
   "outputs": [],
   "source": [
    "country_name = [\"India\",\"United States\",\"China\",\"South Africa\",\"Australia\"]\n",
    "country_Codes = [91,1,86,27,61]\n",
    "temp_list = [\"Football\",\"Chair\",78,44.2]"
   ]
  },
  {
   "cell_type": "code",
   "execution_count": 21,
   "metadata": {},
   "outputs": [
    {
     "data": {
      "text/plain": [
       "list"
      ]
     },
     "execution_count": 21,
     "metadata": {},
     "output_type": "execute_result"
    }
   ],
   "source": [
    "# check the type of the variable\n",
    "type(temp_list)"
   ]
  },
  {
   "cell_type": "code",
   "execution_count": 22,
   "metadata": {},
   "outputs": [
    {
     "name": "stdout",
     "output_type": "stream",
     "text": [
      "['India', 'United States', 'China', 'South Africa', 'Australia', 'Canada']\n"
     ]
    }
   ],
   "source": [
    "# Append function\n",
    "country_name.append('Canada')\n",
    "print(country_name)"
   ]
  },
  {
   "cell_type": "code",
   "execution_count": 23,
   "metadata": {},
   "outputs": [
    {
     "name": "stdout",
     "output_type": "stream",
     "text": [
      "[91, 1, 86, 27, 61, 1]\n"
     ]
    }
   ],
   "source": [
    "# Insert at specific index position\n",
    "country_Codes.insert(5,1)\n",
    "print(country_Codes)"
   ]
  },
  {
   "cell_type": "code",
   "execution_count": 24,
   "metadata": {},
   "outputs": [
    {
     "name": "stdout",
     "output_type": "stream",
     "text": [
      "['Chair', 78, 44.2]\n"
     ]
    }
   ],
   "source": [
    "# remove specific value from list\n",
    "temp_list.remove(\"Football\")\n",
    "print(temp_list)"
   ]
  },
  {
   "cell_type": "code",
   "execution_count": 25,
   "metadata": {},
   "outputs": [
    {
     "name": "stdout",
     "output_type": "stream",
     "text": [
      "Temp list before pop: ['Chair', 78, 44.2]\n",
      "[78, 44.2]\n",
      "[78]\n"
     ]
    }
   ],
   "source": [
    "# pop function to remove element by index or last one\n",
    "print(\"Temp list before pop:\",temp_list)\n",
    "temp_list.pop(0)\n",
    "print(temp_list)\n",
    "temp_list.pop()\n",
    "print(temp_list)"
   ]
  },
  {
   "cell_type": "code",
   "execution_count": 26,
   "metadata": {},
   "outputs": [
    {
     "name": "stdout",
     "output_type": "stream",
     "text": [
      "[78, 1, 2, 3]\n",
      "[78, 1, 2, 3, 4, 5]\n",
      "[78, 1, 2, 3, 4, 5, 'a', 'b', 'c']\n"
     ]
    }
   ],
   "source": [
    "# The extend() function in Python is used to add all elements of an iterable (list, tuple, string, etc.)\n",
    "temp_list.extend([1,2,3]) # extend with list\n",
    "print(temp_list)\n",
    "temp_list.extend((4,5)) # extend with tuple\n",
    "print(temp_list)\n",
    "temp_list.extend(\"abc\") # extend with string characters\n",
    "print(temp_list)"
   ]
  },
  {
   "cell_type": "code",
   "execution_count": 27,
   "metadata": {},
   "outputs": [
    {
     "name": "stdout",
     "output_type": "stream",
     "text": [
      "0\n",
      "2\n"
     ]
    }
   ],
   "source": [
    "# index function for list\n",
    "fruits = [\"banana\",\"apple\",\"banana\",\"mango\"]\n",
    "print(fruits.index(\"banana\")) # first occurance index of banana\n",
    "print(fruits.index(\"banana\",1,3)) # first occurance between 1st and 3rd index position"
   ]
  },
  {
   "cell_type": "code",
   "execution_count": 28,
   "metadata": {},
   "outputs": [
    {
     "name": "stdout",
     "output_type": "stream",
     "text": [
      "[21, 34, 29, 18, 10]\n",
      "[10, 18, 21, 29, 34]\n",
      "[34, 29, 21, 18, 10]\n"
     ]
    }
   ],
   "source": [
    "age = [21,34,29,18,10]\n",
    "print(age)\n",
    "age.sort()\n",
    "print(age)\n",
    "age.sort(reverse=True)\n",
    "print(age)"
   ]
  },
  {
   "cell_type": "code",
   "execution_count": 29,
   "metadata": {},
   "outputs": [
    {
     "name": "stdout",
     "output_type": "stream",
     "text": [
      "[-1, 1, 2, -3, -4]\n"
     ]
    }
   ],
   "source": [
    "numbers = [-1,1,2,-4,-3]\n",
    "numbers.sort(key=abs)\n",
    "print(numbers)"
   ]
  },
  {
   "cell_type": "code",
   "execution_count": 30,
   "metadata": {},
   "outputs": [
    {
     "name": "stdout",
     "output_type": "stream",
     "text": [
      "['apple', 'mango', 'banana']\n"
     ]
    }
   ],
   "source": [
    "fruits = [\"banana\",\"mango\",\"apple\"]\n",
    "fruits.reverse()\n",
    "print(fruits)"
   ]
  },
  {
   "cell_type": "code",
   "execution_count": 31,
   "metadata": {},
   "outputs": [
    {
     "name": "stdout",
     "output_type": "stream",
     "text": [
      "['apple', 'mango', 'banana', 'orange']\n",
      "['apple', 'mango', 'banana']\n"
     ]
    }
   ],
   "source": [
    "fruits_copy = fruits.copy()\n",
    "fruits.append(\"orange\")\n",
    "print(fruits)\n",
    "print(fruits_copy)"
   ]
  },
  {
   "cell_type": "code",
   "execution_count": 34,
   "metadata": {},
   "outputs": [
    {
     "name": "stdout",
     "output_type": "stream",
     "text": [
      "['ant', 'mango', 'banana', 'orange']\n",
      "['apple', 'mango', 'banana']\n",
      "['apple', 'mango', 'banana']\n",
      "['ant', 'mango', 'banana', 'orange']\n"
     ]
    }
   ],
   "source": [
    "fruits[0]='ant'\n",
    "print(fruits)\n",
    "print(fruits_copy)\n",
    "fruits_copy[0]='apple'\n",
    "print(fruits_copy)\n",
    "print(fruits)"
   ]
  },
  {
   "cell_type": "markdown",
   "metadata": {},
   "source": [
    "## 2. Tuples\n",
    "- Immutable sequences, commonly used to store related pieces of information.\n",
    "\n",
    "Key Functions/Methods:\n",
    "- count(): Count occurrences of an element.\n",
    "- index(): Find index of the first occurrence of an element."
   ]
  },
  {
   "cell_type": "markdown",
   "metadata": {},
   "source": [
    "Python Tuple is a collection of Python objects much like a list but Tuples are immutable in nature i.e. the elements in the tuple cannot be added or removed once created. Just like a List, a Tuple can also contain elements of various types.\n",
    "\n",
    "In Python, tuples are created by placing a sequence of values separated by ‘comma’ with or without the use of parentheses for grouping of the data sequence.\n",
    "\n",
    "Note: Tuples can also be created with a single element, but it is a bit tricky. Having one element in the parentheses is not sufficient, there must be a trailing ‘comma’ to make it a tuple."
   ]
  },
  {
   "cell_type": "code",
   "execution_count": 39,
   "metadata": {},
   "outputs": [
    {
     "name": "stdout",
     "output_type": "stream",
     "text": [
      "type of t1 <class 'tuple'>\n",
      "length of tuple t1 0\n"
     ]
    },
    {
     "ename": "TypeError",
     "evalue": "'tuple' object does not support item assignment",
     "output_type": "error",
     "traceback": [
      "\u001b[0;31m---------------------------------------------------------------------------\u001b[0m",
      "\u001b[0;31mTypeError\u001b[0m                                 Traceback (most recent call last)",
      "Cell \u001b[0;32mIn[39], line 4\u001b[0m\n\u001b[1;32m      2\u001b[0m \u001b[38;5;28mprint\u001b[39m(\u001b[38;5;124m\"\u001b[39m\u001b[38;5;124mtype of t1\u001b[39m\u001b[38;5;124m\"\u001b[39m,\u001b[38;5;28mtype\u001b[39m(t1))\n\u001b[1;32m      3\u001b[0m \u001b[38;5;28mprint\u001b[39m(\u001b[38;5;124m\"\u001b[39m\u001b[38;5;124mlength of tuple t1\u001b[39m\u001b[38;5;124m\"\u001b[39m,\u001b[38;5;28mlen\u001b[39m(t1))\n\u001b[0;32m----> 4\u001b[0m \u001b[43mt1\u001b[49m\u001b[43m[\u001b[49m\u001b[38;5;241;43m0\u001b[39;49m\u001b[43m]\u001b[49m\u001b[38;5;241m=\u001b[39m\u001b[38;5;124m'\u001b[39m\u001b[38;5;124mtuple 1\u001b[39m\u001b[38;5;124m'\u001b[39m\n",
      "\u001b[0;31mTypeError\u001b[0m: 'tuple' object does not support item assignment"
     ]
    }
   ],
   "source": [
    "t1 = ()\n",
    "print(\"type of t1\",type(t1))\n",
    "print(\"length of tuple t1\",len(t1))\n",
    "t1[0]='tuple 1' # you will get error while running this command"
   ]
  },
  {
   "cell_type": "code",
   "execution_count": 40,
   "metadata": {},
   "outputs": [
    {
     "name": "stdout",
     "output_type": "stream",
     "text": [
      "<class 'tuple'>\n",
      "3\n"
     ]
    }
   ],
   "source": [
    "t2 = 'a',1,3\n",
    "print(type(t2))\n",
    "print(len(t2))"
   ]
  },
  {
   "cell_type": "code",
   "execution_count": 32,
   "metadata": {},
   "outputs": [
    {
     "name": "stdout",
     "output_type": "stream",
     "text": [
      "2\n",
      "2\n",
      "1\n"
     ]
    }
   ],
   "source": [
    "aging = (10,20,30,20)\n",
    "print(aging.count(20))\n",
    "print(aging.index(30))\n",
    "print(aging.index(20))"
   ]
  },
  {
   "cell_type": "code",
   "execution_count": 36,
   "metadata": {},
   "outputs": [
    {
     "name": "stdout",
     "output_type": "stream",
     "text": [
      "('ant', 'mango', 'banana', 'orange')\n",
      "banana\n"
     ]
    }
   ],
   "source": [
    "# creating tuple from list\n",
    "fruits_tuple = tuple(fruits)\n",
    "print(fruits_tuple)\n",
    "print(fruits_tuple[2])"
   ]
  },
  {
   "cell_type": "markdown",
   "metadata": {},
   "source": [
    "##  3. Dictionaries\n",
    "- Key-value pairs, where each key is unique.\n",
    "\n",
    "Key Functions/Methods:\n",
    "- get(): Return value of a key, or default if key doesn’t exist.\n",
    "- keys(): Return all the keys.\n",
    "- values(): Return all the values.\n",
    "- items(): Return key-value pairs as tuples.\n",
    "- update(): Update dictionary with another dictionary.\n",
    "- pop(): Remove a key and return its value.\n",
    "- popitem(): Remove and return last key-value pair.\n",
    "- clear(): Clear the dictionary."
   ]
  },
  {
   "cell_type": "code",
   "execution_count": 41,
   "metadata": {},
   "outputs": [
    {
     "name": "stdout",
     "output_type": "stream",
     "text": [
      "{}\n",
      "Length: 0\n",
      "<class 'dict'>\n"
     ]
    }
   ],
   "source": [
    "# {} symbol to initialize dictionary\n",
    "emptyDict = {}\n",
    "# print dictionary\n",
    "print(emptyDict)\n",
    "# print length of dictionary\n",
    "print(\"Length:\", len(emptyDict))\n",
    "# print type\n",
    "print(type(emptyDict))"
   ]
  },
  {
   "cell_type": "code",
   "execution_count": 45,
   "metadata": {},
   "outputs": [
    {
     "name": "stdout",
     "output_type": "stream",
     "text": [
      "None\n",
      "dict_keys(['Name', 'Age', 'city'])\n",
      "dict_values(['Alice', 25, 'Bangalore'])\n",
      "dict_items([('Name', 'Alice'), ('Age', 25), ('city', 'Bangalore')])\n",
      "{'Name': 'Alice', 'Age': 25, 'city': 'Bangalore'}\n",
      "{'Name': 'Alice', 'city': 'Bangalore'}\n"
     ]
    }
   ],
   "source": [
    "person = {\"Name\":\"Alice\",\"Age\":25}\n",
    "print(person.get(\"name\"))\n",
    "person[\"city\"] = \"Bangalore\"\n",
    "print(person.keys())\n",
    "print(person.values())\n",
    "print(person.items())\n",
    "print(person)\n",
    "age = person.pop(\"Age\")\n",
    "print(person)"
   ]
  },
  {
   "cell_type": "code",
   "execution_count": 48,
   "metadata": {},
   "outputs": [
    {
     "name": "stdout",
     "output_type": "stream",
     "text": [
      "{'Name': 'Alice'}\n"
     ]
    }
   ],
   "source": [
    "# popitem removes the last key value pair from the dictionary\n",
    "person.popitem()\n",
    "print(person)"
   ]
  },
  {
   "cell_type": "code",
   "execution_count": 50,
   "metadata": {},
   "outputs": [
    {
     "name": "stdout",
     "output_type": "stream",
     "text": [
      "{}\n"
     ]
    }
   ],
   "source": [
    "# to clear the complete dictionary (make the dictionary empty)\n",
    "person.clear()\n",
    "print(person)"
   ]
  },
  {
   "cell_type": "code",
   "execution_count": 47,
   "metadata": {},
   "outputs": [
    {
     "name": "stdout",
     "output_type": "stream",
     "text": [
      "Original Dictionary:\n",
      "{'A': 'America', 'B': 'Bermuda'}\n",
      "Dictionary after updation:\n",
      "{'A': 'America', 'B': 'Brazil', 'C': 'China'}\n"
     ]
    }
   ],
   "source": [
    "# Python program to show working of update() method in Dictionary\n",
    "\n",
    "# Dictionary with three items\n",
    "Dictionary1 = {'A': 'America', 'B': 'Bermuda', }\n",
    "Dictionary2 = {'B': 'Brazil', 'C': 'China'}\n",
    "\n",
    "# Dictionary before Updation\n",
    "print(\"Original Dictionary:\")\n",
    "print(Dictionary1)\n",
    "\n",
    "# update the value of key 'B'\n",
    "Dictionary1.update(Dictionary2)\n",
    "print(\"Dictionary after updation:\")\n",
    "print(Dictionary1)\n"
   ]
  },
  {
   "cell_type": "markdown",
   "metadata": {},
   "source": [
    "## 4. Sets\n",
    "- Unordered collections of unique elements.\n",
    "##### Key Functions/Methods:\n",
    "- add(): Add a new element.\n",
    "- remove(): Remove an element (raises error if not found).\n",
    "- discard(): Remove an element (does not raise error if not found).\n",
    "- union(): Return union of two sets.\n",
    "- intersection(): Return intersection of two sets.\n",
    "- difference(): Return the difference of two sets.\n",
    "- symmetric_difference(): Return elements not in the intersection.\n",
    "- issubset(): Check if one set is a subset of another.\n",
    "- issuperset(): Check if one set is a superset of another."
   ]
  },
  {
   "cell_type": "code",
   "execution_count": 51,
   "metadata": {},
   "outputs": [
    {
     "name": "stdout",
     "output_type": "stream",
     "text": [
      "set()\n"
     ]
    }
   ],
   "source": [
    "# creating an empty set\n",
    "new_set = set()\n",
    "print(new_set)"
   ]
  },
  {
   "cell_type": "code",
   "execution_count": 60,
   "metadata": {},
   "outputs": [
    {
     "name": "stdout",
     "output_type": "stream",
     "text": [
      "{1, 2, 3}\n",
      "{1, 2, 3, 6}\n",
      "{1, 2, 3, 6, 7}\n",
      "{1, 2, 3, 6}\n",
      "{1, 2, 3, 6}\n"
     ]
    }
   ],
   "source": [
    "set_a = {1,2,3}\n",
    "set_b = {6,5,4}\n",
    "print(set_a)\n",
    "# set_a.add(set_b) # this gives error because two sets adding won't be possible this way\n",
    "set_a.add(6)\n",
    "print(set_a)\n",
    "set_a.add(7)\n",
    "print(set_a)\n",
    "set_a.remove(7) # if 7 is not present then this method gives error\n",
    "print(set_a)\n",
    "set_a.discard(7) #this won't give error if the number doesn't present in the set\n",
    "print(set_a)"
   ]
  },
  {
   "cell_type": "code",
   "execution_count": 64,
   "metadata": {},
   "outputs": [
    {
     "name": "stdout",
     "output_type": "stream",
     "text": [
      "{1, 2, 3}\n",
      "{1, 2, 3}\n",
      "{6}\n",
      "{6}\n",
      "{1, 2, 3, 6}\n",
      "{1, 2, 3, 6}\n"
     ]
    }
   ],
   "source": [
    "set_a = {1,2,3,4,5}\n",
    "set_b = {6,5,4}\n",
    "print(set_a.difference(set_b))\n",
    "print(set_a-set_b)\n",
    "print(set_b.difference(set_a))\n",
    "print(set_b-set_a)\n",
    "\n",
    "print(set_a.symmetric_difference(set_b))\n",
    "print(set_b.symmetric_difference(set_a))"
   ]
  },
  {
   "cell_type": "code",
   "execution_count": 58,
   "metadata": {},
   "outputs": [
    {
     "name": "stdout",
     "output_type": "stream",
     "text": [
      "{1, 2, 3, 4, 5, 6}\n",
      "{6}\n"
     ]
    }
   ],
   "source": [
    "set_c = set_a.union(set_b)\n",
    "print(set_c)\n",
    "set_d = set_a.intersection(set_b)\n",
    "print(set_d)"
   ]
  },
  {
   "cell_type": "code",
   "execution_count": 66,
   "metadata": {},
   "outputs": [
    {
     "name": "stdout",
     "output_type": "stream",
     "text": [
      "True\n",
      "True\n"
     ]
    }
   ],
   "source": [
    "set_a = {1,2,3,4,5}\n",
    "set_b = {1,2,4}\n",
    "\n",
    "print(set_b.issubset(set_a))\n",
    "print(set_a.issuperset(set_b))"
   ]
  },
  {
   "cell_type": "markdown",
   "metadata": {},
   "source": [
    "## 5. Strings\n",
    "- Immutable sequences of characters.\n",
    "#### Key Functions/Methods:\n",
    "- lower(): Convert string to lowercase.\n",
    "- upper(): Convert string to uppercase.\n",
    "- split(): Split string into a list of substrings.\n",
    "- join(): Join a list of strings with a separator.\n",
    "- replace(): Replace occurrences of a substring with another substring.\n",
    "- find(): Return the index of the first occurrence of a substring.\n",
    "- startswith(): Check if string starts with a substring.\n",
    "- endswith(): Check if string ends with a substring."
   ]
  },
  {
   "cell_type": "code",
   "execution_count": 67,
   "metadata": {},
   "outputs": [
    {
     "name": "stdout",
     "output_type": "stream",
     "text": [
      "first character in string: H\n",
      "Lower case converted string: hi, coders\n",
      "Upper case converted string: HI, CODERS\n",
      "['Hi,', 'Coders']\n"
     ]
    }
   ],
   "source": [
    "string1 = \"Hi, Coders\"\n",
    "print(\"first character in string:\",string1[0])\n",
    "lower_string = string1.lower()\n",
    "print(\"Lower case converted string:\",lower_string)\n",
    "upper_string = string1.upper()\n",
    "print(\"Upper case converted string:\",upper_string)\n",
    "# Split into list\n",
    "words = string1.split()\n",
    "print(words)"
   ]
  },
  {
   "cell_type": "code",
   "execution_count": 68,
   "metadata": {},
   "outputs": [
    {
     "name": "stdout",
     "output_type": "stream",
     "text": [
      "Coding is awesome\n",
      "Coding-is-awesome\n"
     ]
    }
   ],
   "source": [
    "## JOIN ###\n",
    "# List of strings\n",
    "words = [\"Coding\", \"is\", \"awesome\"]\n",
    "\n",
    "# Join with a space separator\n",
    "sentence = \" \".join(words)\n",
    "print(sentence)  # Output: Coding is awesome\n",
    "\n",
    "# Join with a hyphen separator\n",
    "hyphenated = \"-\".join(words)\n",
    "print(hyphenated)  # Output: Coding-is-awesome\n"
   ]
  },
  {
   "cell_type": "code",
   "execution_count": 70,
   "metadata": {},
   "outputs": [
    {
     "name": "stdout",
     "output_type": "stream",
     "text": [
      "Hello, Professionals!\n",
      "He**o, Professiona*s!\n"
     ]
    }
   ],
   "source": [
    "### Replace ####\n",
    "# Original string\n",
    "text = \"Hello, Coders!\"\n",
    "\n",
    "# Replace 'text = \"Hello, Coders!\" with 'Professionals'\n",
    "new_text = text.replace(\"Coders\", \"Professionals\")\n",
    "print(new_text)  # Output: Hello, Professionals!\n",
    "\n",
    "# Replace 'l' with '*'\n",
    "replaced = new_text.replace(\"l\", \"*\")\n",
    "print(replaced)  # Output: He**o, Professiona*s!\n"
   ]
  },
  {
   "cell_type": "code",
   "execution_count": 71,
   "metadata": {},
   "outputs": [
    {
     "name": "stdout",
     "output_type": "stream",
     "text": [
      "17\n",
      "29\n",
      "-1\n"
     ]
    }
   ],
   "source": [
    "#### find ###\n",
    "# Original string\n",
    "sentence = \"Coding in Python programming is fun.\"\n",
    "\n",
    "# Find the index of 'programming'\n",
    "index = sentence.find(\"programming\")\n",
    "print(index)\n",
    "\n",
    "# Find the index of 'is'\n",
    "index_is = sentence.find(\"is\")\n",
    "print(index_is)\n",
    "\n",
    "# If the substring is not found, it returns -1\n",
    "index_not_found = sentence.find(\"Java\")\n",
    "print(index_not_found)\n"
   ]
  },
  {
   "cell_type": "code",
   "execution_count": 72,
   "metadata": {},
   "outputs": [
    {
     "name": "stdout",
     "output_type": "stream",
     "text": [
      "True\n",
      "False\n"
     ]
    }
   ],
   "source": [
    "### starts with ####\n",
    "# Original string\n",
    "greeting = \"Hello, Coders!\"\n",
    "\n",
    "# Check if it starts with 'Hello'\n",
    "starts_with_hello = greeting.startswith(\"Hello\")\n",
    "print(starts_with_hello)  # Output: True\n",
    "\n",
    "# Check if it starts with 'Python'\n",
    "starts_with_python = greeting.startswith(\"Coders\")\n",
    "print(starts_with_python)  # Output: False\n"
   ]
  },
  {
   "cell_type": "code",
   "execution_count": 73,
   "metadata": {},
   "outputs": [
    {
     "name": "stdout",
     "output_type": "stream",
     "text": [
      "True\n",
      "False\n"
     ]
    }
   ],
   "source": [
    "### ENDS WITH ####\n",
    "# Original string\n",
    "filename = \"Python_DataStructures.py\"\n",
    "\n",
    "# Check if it ends with '.py'\n",
    "ends_with_py = filename.endswith(\".py\")\n",
    "print(ends_with_py)  # Output: True\n",
    "\n",
    "# Check if it ends with '.txt'\n",
    "ends_with_txt = filename.endswith(\".txt\")\n",
    "print(ends_with_txt)  # Output: False\n"
   ]
  },
  {
   "cell_type": "markdown",
   "metadata": {},
   "source": [
    "## 6. Queues\n",
    "#### First-In-First-Out (FIFO) data structure.\n",
    "#### Key Functions/Methods:\n",
    "You can implement a queue using collections.deque (double-ended queue).\n",
    "- append(): Add an element to the end.\n",
    "- popleft(): Remove and return the first element.\n",
    "- appendleft(): Add an element to the front.\n",
    "- pop(): Remove and return the last element."
   ]
  },
  {
   "cell_type": "code",
   "execution_count": 75,
   "metadata": {},
   "outputs": [
    {
     "name": "stdout",
     "output_type": "stream",
     "text": [
      "deque(['Alice', 'Bob', 'Charlie'])\n",
      "deque(['Alice', 'Bob', 'Charlie', 'David'])\n",
      "Alice\n",
      "deque(['Micheal', 'Bob', 'Charlie', 'David'])\n",
      "David\n"
     ]
    }
   ],
   "source": [
    "from collections import deque\n",
    "\n",
    "queue = deque([\"Alice\", \"Bob\", \"Charlie\"])\n",
    "print(queue)\n",
    "# Add to queue\n",
    "queue.append(\"David\")\n",
    "print(queue)\n",
    "# Remove from front\n",
    "first = queue.popleft()\n",
    "print(first)  # Alice\n",
    "\n",
    "queue.appendleft(\"Micheal\")\n",
    "print(queue)\n",
    "\n",
    "last = queue.pop()\n",
    "print(last)\n"
   ]
  },
  {
   "cell_type": "markdown",
   "metadata": {},
   "source": [
    "## 7. Stacks\n",
    "Last-In-First-Out (LIFO) data structure.\n",
    "#### Key Functions/Methods:\n",
    "You can implement a stack using a list.\n",
    "- append(): Add an element to the top of the stack.\n",
    "- pop(): Remove and return the top element."
   ]
  },
  {
   "cell_type": "code",
   "execution_count": 77,
   "metadata": {},
   "outputs": [
    {
     "name": "stdout",
     "output_type": "stream",
     "text": [
      "[1, 2, 3]\n",
      "3\n"
     ]
    }
   ],
   "source": [
    "stack = []\n",
    "\n",
    "# Push elements onto stack\n",
    "stack.append(1)\n",
    "stack.append(2)\n",
    "stack.append(3)\n",
    "print(stack)\n",
    "# Pop element from stack\n",
    "top = stack.pop()\n",
    "print(top)  # 3\n"
   ]
  },
  {
   "cell_type": "markdown",
   "metadata": {},
   "source": [
    "## 8. Heaps\n",
    "Binary heap used to maintain the smallest or largest elements in constant time. Use heapq for a min-heap in Python.\n",
    "#### Key Functions/Methods:\n",
    "- heapify(): Convert a list into a heap.\n",
    "- heappush(): Push a new element onto the heap.\n",
    "- heappop(): Pop the smallest element off the heap.\n",
    "- heapreplace(): Pop and return the smallest element, and push a new element."
   ]
  },
  {
   "cell_type": "code",
   "execution_count": 78,
   "metadata": {},
   "outputs": [
    {
     "name": "stdout",
     "output_type": "stream",
     "text": [
      "0\n",
      "1\n"
     ]
    }
   ],
   "source": [
    "import heapq\n",
    "\n",
    "heap = [3, 2, 5, 1, 4]\n",
    "\n",
    "# Convert list to heap\n",
    "heapq.heapify(heap)\n",
    "\n",
    "# Push a new element\n",
    "heapq.heappush(heap, 0)\n",
    "\n",
    "# Pop the smallest element\n",
    "smallest = heapq.heappop(heap)\n",
    "print(smallest)  # 0\n",
    "\n",
    "print(heapq.heapreplace(heap, 2))\n"
   ]
  },
  {
   "cell_type": "markdown",
   "metadata": {},
   "source": [
    "## 9. Linked Lists\n",
    "Not a built-in data structure, but can be implemented using classes and nodes.\n",
    "Use Cases Where Linked Lists Shine:\n",
    "- Implementing stacks, queues, and graphs.\n",
    "- Handling dynamic datasets that grow or shrink unpredictably.\n",
    "- Efficient insertions/deletions in applications like music playlists, navigation systems, or undo functionality in text editors.\n",
    "- nBuilding data structures where merge operations are frequent (e.g., merge sorting)."
   ]
  },
  {
   "cell_type": "code",
   "execution_count": null,
   "metadata": {},
   "outputs": [],
   "source": []
  },
  {
   "cell_type": "code",
   "execution_count": 79,
   "metadata": {},
   "outputs": [
    {
     "name": "stdout",
     "output_type": "stream",
     "text": [
      "6\n"
     ]
    }
   ],
   "source": [
    "## Example questions\n",
    "def second_largest(numbers):\n",
    "    # Remove duplicates\n",
    "    unique_numbers = list(set(numbers))\n",
    "    # Sort in descending order\n",
    "    unique_numbers.sort(reverse=True)\n",
    "    # Return the second largest\n",
    "    return unique_numbers[1] if len(unique_numbers) > 1 else None\n",
    "\n",
    "# Example usage\n",
    "numbers = [3, 1, 4, 1, 5, 9, 2, 6, 5, 3, 5]\n",
    "print(second_largest(numbers))  # Output: 6\n"
   ]
  },
  {
   "cell_type": "code",
   "execution_count": 80,
   "metadata": {},
   "outputs": [
    {
     "name": "stdout",
     "output_type": "stream",
     "text": [
      "10 5\n"
     ]
    }
   ],
   "source": [
    "def swap(a, b):\n",
    "    # Swap using tuple unpacking\n",
    "    a, b = b, a\n",
    "    return a, b\n",
    "\n",
    "# Example usage\n",
    "x, y = 5, 10\n",
    "x, y = swap(x, y)\n",
    "print(x, y)  # Output: 10 5"
   ]
  },
  {
   "cell_type": "code",
   "execution_count": 81,
   "metadata": {},
   "outputs": [
    {
     "name": "stdout",
     "output_type": "stream",
     "text": [
      "{'i': 2, 'n': 1, 't': 1, 'e': 2, 'r': 1, 'v': 1, 'w': 1}\n"
     ]
    }
   ],
   "source": [
    "def char_frequency(string):\n",
    "    frequency = {}\n",
    "    for char in string:\n",
    "        frequency[char] = frequency.get(char, 0) + 1 #get return the 0 value if the char doesn't exist\n",
    "    return frequency\n",
    "\n",
    "# Example usage\n",
    "text = \"interview\"\n",
    "print(char_frequency(text))  # Output: {'i': 2, 'n': 1, 't': 1, 'e': 2, 'r': 1, 'v': 1, 'w': 1}"
   ]
  },
  {
   "cell_type": "code",
   "execution_count": 82,
   "metadata": {},
   "outputs": [
    {
     "name": "stdout",
     "output_type": "stream",
     "text": [
      "fun is Python\n"
     ]
    }
   ],
   "source": [
    "def reverse_words(sentence):\n",
    "    words = sentence.split()\n",
    "    return ' '.join(reversed(words)) #reversed function helps in reverse of words\n",
    "\n",
    "# Example usage\n",
    "sentence = \"Python is fun\"\n",
    "print(reverse_words(sentence))  # Output: \"fun is Python\"\n"
   ]
  },
  {
   "cell_type": "code",
   "execution_count": 83,
   "metadata": {},
   "outputs": [
    {
     "name": "stdout",
     "output_type": "stream",
     "text": [
      "{4: 2, 5: 1}\n"
     ]
    }
   ],
   "source": [
    "# to count the common words between two list, return dictionary with common words and the count number of times present in list2\n",
    "def common_elements(list1, list2):\n",
    "    freq_dict = {}\n",
    "    for element in list1:\n",
    "        if element in list2:\n",
    "            freq_dict[element] = list2.count(element)\n",
    "    return freq_dict\n",
    "\n",
    "# Example usage\n",
    "list1 = [1, 2, 3, 4, 5]\n",
    "list2 = [4, 4, 5, 6, 7]\n",
    "print(common_elements(list1, list2))  # Output: {4: 2, 5: 1}\n"
   ]
  },
  {
   "cell_type": "code",
   "execution_count": 84,
   "metadata": {},
   "outputs": [
    {
     "name": "stdout",
     "output_type": "stream",
     "text": [
      "(50, 2)\n"
     ]
    }
   ],
   "source": [
    "# returns first occurance of maximum value and its index\n",
    "def max_value_with_index(numbers):\n",
    "    max_val = max(numbers)\n",
    "    index = numbers.index(max_val)\n",
    "    return max_val, index\n",
    "\n",
    "# Example usage\n",
    "numbers = [10, 20, 50, 30, 50]\n",
    "print(max_value_with_index(numbers))  # Output: (50, 2)\n"
   ]
  },
  {
   "cell_type": "code",
   "execution_count": 85,
   "metadata": {},
   "outputs": [
    {
     "name": "stdout",
     "output_type": "stream",
     "text": [
      "name: Alice, age: 30, city: New York\n"
     ]
    }
   ],
   "source": [
    "# dictionary to string\n",
    "def dict_to_string(d):\n",
    "    return ', '.join([f'{k}: {v}' for k, v in d.items()])\n",
    "\n",
    "# Example usage\n",
    "person = {'name': 'Alice', 'age': 30, 'city': 'New York'}\n",
    "print(dict_to_string(person))  # Output: \"name: Alice, age: 30, city: New York\"\n"
   ]
  },
  {
   "cell_type": "code",
   "execution_count": 86,
   "metadata": {},
   "outputs": [
    {
     "name": "stdout",
     "output_type": "stream",
     "text": [
      "{'name': 'Alice', 'age': 25, 'city': 'New York'}\n",
      "{1: 2, 3: 4, 5: 6}\n"
     ]
    }
   ],
   "source": [
    "# converting list of tuples to a dictionary\n",
    "def tuples_to_dict(tuples):\n",
    "    return dict(tuples)\n",
    "\n",
    "# Example usage\n",
    "list_of_tuples = [('name', 'Alice'), ('age', 25), ('city', 'New York')]\n",
    "print(tuples_to_dict(list_of_tuples))  # Output: {'name': 'Alice', 'age': 25, 'city': 'New York'}\n",
    "print(tuples_to_dict([(1,2),(3,4),(5,6)]))\n"
   ]
  },
  {
   "cell_type": "code",
   "execution_count": 87,
   "metadata": {},
   "outputs": [
    {
     "name": "stdout",
     "output_type": "stream",
     "text": [
      "['radar', 'level', 'madam']\n"
     ]
    }
   ],
   "source": [
    "# return all polindrome words\n",
    "def find_palindromes(words):\n",
    "    return [word for word in words if word == word[::-1]]\n",
    "\n",
    "# Example usage\n",
    "words = [\"radar\", \"python\", \"level\", \"world\", \"madam\"]\n",
    "print(find_palindromes(words))  # Output: ['radar', 'level', 'madam']"
   ]
  },
  {
   "cell_type": "code",
   "execution_count": 88,
   "metadata": {},
   "outputs": [
    {
     "name": "stdout",
     "output_type": "stream",
     "text": [
      "{'this': 2, 'is': 2, 'a': 2, 'test': 2, 'only': 1}\n"
     ]
    }
   ],
   "source": [
    "# to count frequency of each word in the sentence\n",
    "def word_frequency(sentence):\n",
    "    words = sentence.split()\n",
    "    freq_dict = {}\n",
    "    for word in words:\n",
    "        freq_dict[word] = freq_dict.get(word, 0) + 1\n",
    "    return freq_dict\n",
    "\n",
    "# Example usage\n",
    "sentence = \"this is a test this is only a test\"\n",
    "print(word_frequency(sentence))  \n",
    "# Output: {'this': 2, 'is': 2, 'a': 2, 'test': 2, 'only': 1}\n"
   ]
  },
  {
   "cell_type": "code",
   "execution_count": 89,
   "metadata": {},
   "outputs": [
    {
     "name": "stdout",
     "output_type": "stream",
     "text": [
      "{'name': 'Alice', 'age': 25, 'city': 'New York'}\n"
     ]
    }
   ],
   "source": [
    "# functin takes tuple of keys and list of values and return as a dictionary of key value pairs\n",
    "def create_dict(keys, values):\n",
    "    return dict(zip(keys, values))\n",
    "\n",
    "# Example usage\n",
    "keys = ('name', 'age', 'city')\n",
    "values = ['Alice', 25, 'New York']\n",
    "print(create_dict(keys, values))  # Output: {'name': 'Alice', 'age': 25, 'city': 'New York'}\n"
   ]
  }
 ],
 "metadata": {
  "kernelspec": {
   "display_name": "Python 3",
   "language": "python",
   "name": "python3"
  },
  "language_info": {
   "codemirror_mode": {
    "name": "ipython",
    "version": 3
   },
   "file_extension": ".py",
   "mimetype": "text/x-python",
   "name": "python",
   "nbconvert_exporter": "python",
   "pygments_lexer": "ipython3",
   "version": "3.11.5"
  }
 },
 "nbformat": 4,
 "nbformat_minor": 2
}
