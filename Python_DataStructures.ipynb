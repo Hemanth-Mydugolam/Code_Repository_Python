{
 "cells": [
  {
   "cell_type": "markdown",
   "metadata": {},
   "source": [
    "## Python Data Structures\n",
    "#### Lists\n",
    "#### Tuples\n",
    "#### Dictionaries\n",
    "#### Sets\n",
    "#### Strings\n",
    "#### Queues\n",
    "#### Stacks\n",
    "#### Linked Lists"
   ]
  },
  {
   "cell_type": "markdown",
   "metadata": {},
   "source": [
    "### List\n",
    "- A dynamic array that can hold elements of any data type.\n",
    "\n",
    "### Key Functions/Methods:\n",
    "- append(): Add an element at the end.\n",
    "- insert(index, value): Insert element at a specified index.\n",
    "- remove(): Remove first occurrence of a value.\n",
    "- pop(): Remove element by index (or last element if not specified).\n",
    "- extend(): Append elements from another iterable.\n",
    "- index(): Return the index of the first occurrence of a value.\n",
    "- count(): Return the number of occurrences of a value.\n",
    "- sort(): Sort the list in place.\n",
    "- reverse(): Reverse the list in place.\n",
    "- copy(): Return a shallow copy of the list."
   ]
  },
  {
   "cell_type": "code",
   "execution_count": 37,
   "metadata": {},
   "outputs": [
    {
     "name": "stdout",
     "output_type": "stream",
     "text": [
      "Values of a: []\n",
      "Type of a: <class 'list'>\n",
      "Size of a: 0\n"
     ]
    }
   ],
   "source": [
    "# list is declared\n",
    "a = []         \n",
    "\n",
    "print(\"Values of a:\", a)\n",
    "print(\"Type of a:\", type(a))\n",
    "print(\"Size of a:\", len(a)) "
   ]
  },
  {
   "cell_type": "code",
   "execution_count": 20,
   "metadata": {},
   "outputs": [],
   "source": [
    "country_name = [\"India\",\"United States\",\"China\",\"South Africa\",\"Australia\"]\n",
    "country_Codes = [91,1,86,27,61]\n",
    "temp_list = [\"Football\",\"Chair\",78,44.2]"
   ]
  },
  {
   "cell_type": "code",
   "execution_count": 21,
   "metadata": {},
   "outputs": [
    {
     "data": {
      "text/plain": [
       "list"
      ]
     },
     "execution_count": 21,
     "metadata": {},
     "output_type": "execute_result"
    }
   ],
   "source": [
    "# check the type of the variable\n",
    "type(temp_list)"
   ]
  },
  {
   "cell_type": "code",
   "execution_count": 22,
   "metadata": {},
   "outputs": [
    {
     "name": "stdout",
     "output_type": "stream",
     "text": [
      "['India', 'United States', 'China', 'South Africa', 'Australia', 'Canada']\n"
     ]
    }
   ],
   "source": [
    "# Append function\n",
    "country_name.append('Canada')\n",
    "print(country_name)"
   ]
  },
  {
   "cell_type": "code",
   "execution_count": 23,
   "metadata": {},
   "outputs": [
    {
     "name": "stdout",
     "output_type": "stream",
     "text": [
      "[91, 1, 86, 27, 61, 1]\n"
     ]
    }
   ],
   "source": [
    "# Insert at specific index position\n",
    "country_Codes.insert(5,1)\n",
    "print(country_Codes)"
   ]
  },
  {
   "cell_type": "code",
   "execution_count": 24,
   "metadata": {},
   "outputs": [
    {
     "name": "stdout",
     "output_type": "stream",
     "text": [
      "['Chair', 78, 44.2]\n"
     ]
    }
   ],
   "source": [
    "# remove specific value from list\n",
    "temp_list.remove(\"Football\")\n",
    "print(temp_list)"
   ]
  },
  {
   "cell_type": "code",
   "execution_count": 25,
   "metadata": {},
   "outputs": [
    {
     "name": "stdout",
     "output_type": "stream",
     "text": [
      "Temp list before pop: ['Chair', 78, 44.2]\n",
      "[78, 44.2]\n",
      "[78]\n"
     ]
    }
   ],
   "source": [
    "# pop function to remove element by index or last one\n",
    "print(\"Temp list before pop:\",temp_list)\n",
    "temp_list.pop(0)\n",
    "print(temp_list)\n",
    "temp_list.pop()\n",
    "print(temp_list)"
   ]
  },
  {
   "cell_type": "code",
   "execution_count": 26,
   "metadata": {},
   "outputs": [
    {
     "name": "stdout",
     "output_type": "stream",
     "text": [
      "[78, 1, 2, 3]\n",
      "[78, 1, 2, 3, 4, 5]\n",
      "[78, 1, 2, 3, 4, 5, 'a', 'b', 'c']\n"
     ]
    }
   ],
   "source": [
    "# The extend() function in Python is used to add all elements of an iterable (list, tuple, string, etc.)\n",
    "temp_list.extend([1,2,3]) # extend with list\n",
    "print(temp_list)\n",
    "temp_list.extend((4,5)) # extend with tuple\n",
    "print(temp_list)\n",
    "temp_list.extend(\"abc\") # extend with string characters\n",
    "print(temp_list)"
   ]
  },
  {
   "cell_type": "code",
   "execution_count": 27,
   "metadata": {},
   "outputs": [
    {
     "name": "stdout",
     "output_type": "stream",
     "text": [
      "0\n",
      "2\n"
     ]
    }
   ],
   "source": [
    "# index function for list\n",
    "fruits = [\"banana\",\"apple\",\"banana\",\"mango\"]\n",
    "print(fruits.index(\"banana\")) # first occurance index of banana\n",
    "print(fruits.index(\"banana\",1,3)) # first occurance between 1st and 3rd index position"
   ]
  },
  {
   "cell_type": "code",
   "execution_count": 28,
   "metadata": {},
   "outputs": [
    {
     "name": "stdout",
     "output_type": "stream",
     "text": [
      "[21, 34, 29, 18, 10]\n",
      "[10, 18, 21, 29, 34]\n",
      "[34, 29, 21, 18, 10]\n"
     ]
    }
   ],
   "source": [
    "age = [21,34,29,18,10]\n",
    "print(age)\n",
    "age.sort()\n",
    "print(age)\n",
    "age.sort(reverse=True)\n",
    "print(age)"
   ]
  },
  {
   "cell_type": "code",
   "execution_count": 29,
   "metadata": {},
   "outputs": [
    {
     "name": "stdout",
     "output_type": "stream",
     "text": [
      "[-1, 1, 2, -3, -4]\n"
     ]
    }
   ],
   "source": [
    "numbers = [-1,1,2,-4,-3]\n",
    "numbers.sort(key=abs)\n",
    "print(numbers)"
   ]
  },
  {
   "cell_type": "code",
   "execution_count": 30,
   "metadata": {},
   "outputs": [
    {
     "name": "stdout",
     "output_type": "stream",
     "text": [
      "['apple', 'mango', 'banana']\n"
     ]
    }
   ],
   "source": [
    "fruits = [\"banana\",\"mango\",\"apple\"]\n",
    "fruits.reverse()\n",
    "print(fruits)"
   ]
  },
  {
   "cell_type": "code",
   "execution_count": 31,
   "metadata": {},
   "outputs": [
    {
     "name": "stdout",
     "output_type": "stream",
     "text": [
      "['apple', 'mango', 'banana', 'orange']\n",
      "['apple', 'mango', 'banana']\n"
     ]
    }
   ],
   "source": [
    "fruits_copy = fruits.copy()\n",
    "fruits.append(\"orange\")\n",
    "print(fruits)\n",
    "print(fruits_copy)"
   ]
  },
  {
   "cell_type": "code",
   "execution_count": 34,
   "metadata": {},
   "outputs": [
    {
     "name": "stdout",
     "output_type": "stream",
     "text": [
      "['ant', 'mango', 'banana', 'orange']\n",
      "['apple', 'mango', 'banana']\n",
      "['apple', 'mango', 'banana']\n",
      "['ant', 'mango', 'banana', 'orange']\n"
     ]
    }
   ],
   "source": [
    "fruits[0]='ant'\n",
    "print(fruits)\n",
    "print(fruits_copy)\n",
    "fruits_copy[0]='apple'\n",
    "print(fruits_copy)\n",
    "print(fruits)"
   ]
  },
  {
   "cell_type": "markdown",
   "metadata": {},
   "source": [
    "## Tuples\n",
    "- Immutable sequences, commonly used to store related pieces of information.\n",
    "\n",
    "Key Functions/Methods:\n",
    "- count(): Count occurrences of an element.\n",
    "- index(): Find index of the first occurrence of an element."
   ]
  },
  {
   "cell_type": "markdown",
   "metadata": {},
   "source": [
    "Python Tuple is a collection of Python objects much like a list but Tuples are immutable in nature i.e. the elements in the tuple cannot be added or removed once created. Just like a List, a Tuple can also contain elements of various types.\n",
    "\n",
    "In Python, tuples are created by placing a sequence of values separated by ‘comma’ with or without the use of parentheses for grouping of the data sequence.\n",
    "\n",
    "Note: Tuples can also be created with a single element, but it is a bit tricky. Having one element in the parentheses is not sufficient, there must be a trailing ‘comma’ to make it a tuple."
   ]
  },
  {
   "cell_type": "code",
   "execution_count": 39,
   "metadata": {},
   "outputs": [
    {
     "name": "stdout",
     "output_type": "stream",
     "text": [
      "type of t1 <class 'tuple'>\n",
      "length of tuple t1 0\n"
     ]
    },
    {
     "ename": "TypeError",
     "evalue": "'tuple' object does not support item assignment",
     "output_type": "error",
     "traceback": [
      "\u001b[0;31m---------------------------------------------------------------------------\u001b[0m",
      "\u001b[0;31mTypeError\u001b[0m                                 Traceback (most recent call last)",
      "Cell \u001b[0;32mIn[39], line 4\u001b[0m\n\u001b[1;32m      2\u001b[0m \u001b[38;5;28mprint\u001b[39m(\u001b[38;5;124m\"\u001b[39m\u001b[38;5;124mtype of t1\u001b[39m\u001b[38;5;124m\"\u001b[39m,\u001b[38;5;28mtype\u001b[39m(t1))\n\u001b[1;32m      3\u001b[0m \u001b[38;5;28mprint\u001b[39m(\u001b[38;5;124m\"\u001b[39m\u001b[38;5;124mlength of tuple t1\u001b[39m\u001b[38;5;124m\"\u001b[39m,\u001b[38;5;28mlen\u001b[39m(t1))\n\u001b[0;32m----> 4\u001b[0m \u001b[43mt1\u001b[49m\u001b[43m[\u001b[49m\u001b[38;5;241;43m0\u001b[39;49m\u001b[43m]\u001b[49m\u001b[38;5;241m=\u001b[39m\u001b[38;5;124m'\u001b[39m\u001b[38;5;124mtuple 1\u001b[39m\u001b[38;5;124m'\u001b[39m\n",
      "\u001b[0;31mTypeError\u001b[0m: 'tuple' object does not support item assignment"
     ]
    }
   ],
   "source": [
    "t1 = ()\n",
    "print(\"type of t1\",type(t1))\n",
    "print(\"length of tuple t1\",len(t1))\n",
    "t1[0]='tuple 1' # you will get error while running this command"
   ]
  },
  {
   "cell_type": "code",
   "execution_count": 40,
   "metadata": {},
   "outputs": [
    {
     "name": "stdout",
     "output_type": "stream",
     "text": [
      "<class 'tuple'>\n",
      "3\n"
     ]
    }
   ],
   "source": [
    "t2 = 'a',1,3\n",
    "print(type(t2))\n",
    "print(len(t2))"
   ]
  },
  {
   "cell_type": "code",
   "execution_count": 32,
   "metadata": {},
   "outputs": [
    {
     "name": "stdout",
     "output_type": "stream",
     "text": [
      "2\n",
      "2\n",
      "1\n"
     ]
    }
   ],
   "source": [
    "aging = (10,20,30,20)\n",
    "print(aging.count(20))\n",
    "print(aging.index(30))\n",
    "print(aging.index(20))"
   ]
  },
  {
   "cell_type": "code",
   "execution_count": 36,
   "metadata": {},
   "outputs": [
    {
     "name": "stdout",
     "output_type": "stream",
     "text": [
      "('ant', 'mango', 'banana', 'orange')\n",
      "banana\n"
     ]
    }
   ],
   "source": [
    "# creating tuple from list\n",
    "fruits_tuple = tuple(fruits)\n",
    "print(fruits_tuple)\n",
    "print(fruits_tuple[2])"
   ]
  },
  {
   "cell_type": "markdown",
   "metadata": {},
   "source": [
    "## Dictionaries\n",
    "- Key-value pairs, where each key is unique.\n",
    "\n",
    "Key Functions/Methods:\n",
    "- get(): Return value of a key, or default if key doesn’t exist.\n",
    "- keys(): Return all the keys.\n",
    "- values(): Return all the values.\n",
    "- items(): Return key-value pairs as tuples.\n",
    "- update(): Update dictionary with another dictionary.\n",
    "- pop(): Remove a key and return its value.\n",
    "- popitem(): Remove and return last key-value pair.\n",
    "- clear(): Clear the dictionary."
   ]
  },
  {
   "cell_type": "code",
   "execution_count": 41,
   "metadata": {},
   "outputs": [
    {
     "name": "stdout",
     "output_type": "stream",
     "text": [
      "{}\n",
      "Length: 0\n",
      "<class 'dict'>\n"
     ]
    }
   ],
   "source": [
    "# {} symbol to initialize dictionary\n",
    "emptyDict = {}\n",
    "# print dictionary\n",
    "print(emptyDict)\n",
    "# print length of dictionary\n",
    "print(\"Length:\", len(emptyDict))\n",
    "# print type\n",
    "print(type(emptyDict))"
   ]
  },
  {
   "cell_type": "code",
   "execution_count": 45,
   "metadata": {},
   "outputs": [
    {
     "name": "stdout",
     "output_type": "stream",
     "text": [
      "None\n",
      "dict_keys(['Name', 'Age', 'city'])\n",
      "dict_values(['Alice', 25, 'Bangalore'])\n",
      "dict_items([('Name', 'Alice'), ('Age', 25), ('city', 'Bangalore')])\n",
      "{'Name': 'Alice', 'Age': 25, 'city': 'Bangalore'}\n",
      "{'Name': 'Alice', 'city': 'Bangalore'}\n"
     ]
    }
   ],
   "source": [
    "person = {\"Name\":\"Alice\",\"Age\":25}\n",
    "print(person.get(\"name\"))\n",
    "person[\"city\"] = \"Bangalore\"\n",
    "print(person.keys())\n",
    "print(person.values())\n",
    "print(person.items())\n",
    "print(person)\n",
    "age = person.pop(\"Age\")\n",
    "print(person)"
   ]
  },
  {
   "cell_type": "code",
   "execution_count": 48,
   "metadata": {},
   "outputs": [
    {
     "name": "stdout",
     "output_type": "stream",
     "text": [
      "{'Name': 'Alice'}\n"
     ]
    }
   ],
   "source": [
    "# popitem removes the last key value pair from the dictionary\n",
    "person.popitem()\n",
    "print(person)"
   ]
  },
  {
   "cell_type": "code",
   "execution_count": 50,
   "metadata": {},
   "outputs": [
    {
     "name": "stdout",
     "output_type": "stream",
     "text": [
      "{}\n"
     ]
    }
   ],
   "source": [
    "# to clear the complete dictionary (make the dictionary empty)\n",
    "person.clear()\n",
    "print(person)"
   ]
  },
  {
   "cell_type": "code",
   "execution_count": 47,
   "metadata": {},
   "outputs": [
    {
     "name": "stdout",
     "output_type": "stream",
     "text": [
      "Original Dictionary:\n",
      "{'A': 'America', 'B': 'Bermuda'}\n",
      "Dictionary after updation:\n",
      "{'A': 'America', 'B': 'Brazil', 'C': 'China'}\n"
     ]
    }
   ],
   "source": [
    "# Python program to show working of update() method in Dictionary\n",
    "\n",
    "# Dictionary with three items\n",
    "Dictionary1 = {'A': 'America', 'B': 'Bermuda', }\n",
    "Dictionary2 = {'B': 'Brazil', 'C': 'China'}\n",
    "\n",
    "# Dictionary before Updation\n",
    "print(\"Original Dictionary:\")\n",
    "print(Dictionary1)\n",
    "\n",
    "# update the value of key 'B'\n",
    "Dictionary1.update(Dictionary2)\n",
    "print(\"Dictionary after updation:\")\n",
    "print(Dictionary1)\n"
   ]
  },
  {
   "cell_type": "markdown",
   "metadata": {},
   "source": [
    "## Sets\n",
    "- Unordered collections of unique elements.\n",
    "##### Key Functions/Methods:\n",
    "- add(): Add a new element.\n",
    "- remove(): Remove an element (raises error if not found).\n",
    "- discard(): Remove an element (does not raise error if not found).\n",
    "- union(): Return union of two sets.\n",
    "- intersection(): Return intersection of two sets.\n",
    "- difference(): Return the difference of two sets.\n",
    "- symmetric_difference(): Return elements not in the intersection.\n",
    "- issubset(): Check if one set is a subset of another.\n",
    "- issuperset(): Check if one set is a superset of another."
   ]
  },
  {
   "cell_type": "code",
   "execution_count": 51,
   "metadata": {},
   "outputs": [
    {
     "name": "stdout",
     "output_type": "stream",
     "text": [
      "set()\n"
     ]
    }
   ],
   "source": [
    "# creating an empty set\n",
    "new_set = set()\n",
    "print(new_set)"
   ]
  },
  {
   "cell_type": "code",
   "execution_count": 60,
   "metadata": {},
   "outputs": [
    {
     "name": "stdout",
     "output_type": "stream",
     "text": [
      "{1, 2, 3}\n",
      "{1, 2, 3, 6}\n",
      "{1, 2, 3, 6, 7}\n",
      "{1, 2, 3, 6}\n",
      "{1, 2, 3, 6}\n"
     ]
    }
   ],
   "source": [
    "set_a = {1,2,3}\n",
    "set_b = {6,5,4}\n",
    "print(set_a)\n",
    "# set_a.add(set_b) # this gives error because two sets adding won't be possible this way\n",
    "set_a.add(6)\n",
    "print(set_a)\n",
    "set_a.add(7)\n",
    "print(set_a)\n",
    "set_a.remove(7) # if 7 is not present then this method gives error\n",
    "print(set_a)\n",
    "set_a.discard(7) #this won't give error if the number doesn't present in the set\n",
    "print(set_a)"
   ]
  },
  {
   "cell_type": "code",
   "execution_count": 64,
   "metadata": {},
   "outputs": [
    {
     "name": "stdout",
     "output_type": "stream",
     "text": [
      "{1, 2, 3}\n",
      "{1, 2, 3}\n",
      "{6}\n",
      "{6}\n",
      "{1, 2, 3, 6}\n",
      "{1, 2, 3, 6}\n"
     ]
    }
   ],
   "source": [
    "set_a = {1,2,3,4,5}\n",
    "set_b = {6,5,4}\n",
    "print(set_a.difference(set_b))\n",
    "print(set_a-set_b)\n",
    "print(set_b.difference(set_a))\n",
    "print(set_b-set_a)\n",
    "\n",
    "print(set_a.symmetric_difference(set_b))\n",
    "print(set_b.symmetric_difference(set_a))"
   ]
  },
  {
   "cell_type": "code",
   "execution_count": 58,
   "metadata": {},
   "outputs": [
    {
     "name": "stdout",
     "output_type": "stream",
     "text": [
      "{1, 2, 3, 4, 5, 6}\n",
      "{6}\n"
     ]
    }
   ],
   "source": [
    "set_c = set_a.union(set_b)\n",
    "print(set_c)\n",
    "set_d = set_a.intersection(set_b)\n",
    "print(set_d)"
   ]
  },
  {
   "cell_type": "code",
   "execution_count": 66,
   "metadata": {},
   "outputs": [
    {
     "name": "stdout",
     "output_type": "stream",
     "text": [
      "True\n",
      "True\n"
     ]
    }
   ],
   "source": [
    "set_a = {1,2,3,4,5}\n",
    "set_b = {1,2,4}\n",
    "\n",
    "print(set_b.issubset(set_a))\n",
    "print(set_a.issuperset(set_b))\n"
   ]
  }
 ],
 "metadata": {
  "kernelspec": {
   "display_name": "Python 3",
   "language": "python",
   "name": "python3"
  },
  "language_info": {
   "codemirror_mode": {
    "name": "ipython",
    "version": 3
   },
   "file_extension": ".py",
   "mimetype": "text/x-python",
   "name": "python",
   "nbconvert_exporter": "python",
   "pygments_lexer": "ipython3",
   "version": "3.11.5"
  }
 },
 "nbformat": 4,
 "nbformat_minor": 2
}
